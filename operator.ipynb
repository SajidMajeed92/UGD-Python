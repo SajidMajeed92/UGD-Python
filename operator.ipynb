{
 "cells": [
  {
   "cell_type": "code",
   "execution_count": 1,
   "metadata": {},
   "outputs": [
    {
     "name": "stdout",
     "output_type": "stream",
     "text": [
      "a + b = 15\n",
      "a - b = 5\n",
      "a * b = 50\n",
      "a / b = 2.0\n",
      "a % b = 0\n",
      "a // b = 2\n",
      "a ** b = 100000\n"
     ]
    }
   ],
   "source": [
    "# Assigning values to variables\n",
    "a = 10\n",
    "b = 5\n",
    "# Addition\n",
    "print('a + b =', a + b)\n",
    "# Subtraction\n",
    "print('a - b =', a - b)\n",
    "# Multiplication\n",
    "print('a * b =', a * b)\n",
    "# Division\n",
    "print('a / b =', a / b)\n",
    "# Modulus\n",
    "print('a % b =', a % b)\n",
    "# Floor Division\n",
    "print('a // b =', a // b)\n",
    "# Exponent\n",
    "print('a ** b =', a ** b)"
   ]
  },
  {
   "cell_type": "code",
   "execution_count": 2,
   "metadata": {},
   "outputs": [
    {
     "name": "stdout",
     "output_type": "stream",
     "text": [
      "a > b = True\n",
      "a < b = False\n",
      "a == b = False\n",
      "a != b = True\n",
      "a >= b = True\n",
      "a <= b = False\n"
     ]
    }
   ],
   "source": [
    "# Assigning values to variables\n",
    "a = 10\n",
    "b = 5\n",
    "# Greater than\n",
    "print('a > b =', a > b)\n",
    "# Lesser than\n",
    "print('a < b =', a < b)\n",
    "# Equal to\n",
    "print('a == b =', a == b)\n",
    "# Not equal to\n",
    "print('a != b =', a != b)\n",
    "# Greater than or equal to\n",
    "print('a >= b =', a >= b)\n",
    "# Lesser than or equal to\n",
    "print('a <= b =', a <= b)"
   ]
  },
  {
   "cell_type": "code",
   "execution_count": 3,
   "metadata": {},
   "outputs": [],
   "source": [
    "a=True\n",
    "b=False"
   ]
  },
  {
   "cell_type": "code",
   "execution_count": 4,
   "metadata": {},
   "outputs": [
    {
     "data": {
      "text/plain": [
       "True"
      ]
     },
     "execution_count": 4,
     "metadata": {},
     "output_type": "execute_result"
    }
   ],
   "source": [
    "a"
   ]
  },
  {
   "cell_type": "code",
   "execution_count": 5,
   "metadata": {},
   "outputs": [
    {
     "data": {
      "text/plain": [
       "False"
      ]
     },
     "execution_count": 5,
     "metadata": {},
     "output_type": "execute_result"
    }
   ],
   "source": [
    "b"
   ]
  },
  {
   "cell_type": "code",
   "execution_count": 6,
   "metadata": {},
   "outputs": [
    {
     "data": {
      "text/plain": [
       "False"
      ]
     },
     "execution_count": 6,
     "metadata": {},
     "output_type": "execute_result"
    }
   ],
   "source": [
    "a and b"
   ]
  },
  {
   "cell_type": "code",
   "execution_count": 7,
   "metadata": {},
   "outputs": [
    {
     "data": {
      "text/plain": [
       "True"
      ]
     },
     "execution_count": 7,
     "metadata": {},
     "output_type": "execute_result"
    }
   ],
   "source": [
    "a or b"
   ]
  },
  {
   "cell_type": "code",
   "execution_count": 8,
   "metadata": {},
   "outputs": [
    {
     "name": "stdout",
     "output_type": "stream",
     "text": [
      "a and b is False\n",
      "a or b is True\n",
      "not a is False\n",
      "not b is True\n"
     ]
    }
   ],
   "source": [
    "# Assigning values to variable\n",
    "a = True\n",
    "b = False\n",
    "# Logical and\n",
    "print('a and b is',a and b)\n",
    "# Logical or\n",
    "print('a or b is',a or b)\n",
    "# Logical not\n",
    "print('not a is',not a)\n",
    "print('not b is',not b)"
   ]
  },
  {
   "cell_type": "code",
   "execution_count": 9,
   "metadata": {},
   "outputs": [],
   "source": [
    "c = a and b"
   ]
  },
  {
   "cell_type": "code",
   "execution_count": 10,
   "metadata": {},
   "outputs": [
    {
     "data": {
      "text/plain": [
       "False"
      ]
     },
     "execution_count": 10,
     "metadata": {},
     "output_type": "execute_result"
    }
   ],
   "source": [
    "c"
   ]
  },
  {
   "cell_type": "code",
   "execution_count": 11,
   "metadata": {},
   "outputs": [
    {
     "data": {
      "text/plain": [
       "True"
      ]
     },
     "execution_count": 11,
     "metadata": {},
     "output_type": "execute_result"
    }
   ],
   "source": [
    "not c"
   ]
  },
  {
   "cell_type": "code",
   "execution_count": 12,
   "metadata": {},
   "outputs": [
    {
     "name": "stdout",
     "output_type": "stream",
     "text": [
      "Enter Value of a : True\n",
      "Enter Value of b : False\n",
      "a and b is False\n",
      "a or b is True\n",
      "not a is False\n",
      "not b is False\n"
     ]
    }
   ],
   "source": [
    "a = input(\"Enter Value of a : \")\n",
    "b = input(\"Enter Value of b : \")\n",
    "# Logical and\n",
    "print('a and b is',a and b)\n",
    "# Logical or\n",
    "print('a or b is',a or b)\n",
    "# Logical not\n",
    "print('not a is',not a)\n",
    "print('not b is',not b)"
   ]
  },
  {
   "cell_type": "code",
   "execution_count": 13,
   "metadata": {},
   "outputs": [
    {
     "data": {
      "text/plain": [
       "'False'"
      ]
     },
     "execution_count": 13,
     "metadata": {},
     "output_type": "execute_result"
    }
   ],
   "source": [
    "b"
   ]
  },
  {
   "cell_type": "code",
   "execution_count": 14,
   "metadata": {},
   "outputs": [
    {
     "data": {
      "text/plain": [
       "False"
      ]
     },
     "execution_count": 14,
     "metadata": {},
     "output_type": "execute_result"
    }
   ],
   "source": [
    "not b"
   ]
  },
  {
   "cell_type": "code",
   "execution_count": 15,
   "metadata": {},
   "outputs": [],
   "source": [
    "a = \"\"\n",
    "b = \"Python\""
   ]
  },
  {
   "cell_type": "code",
   "execution_count": 16,
   "metadata": {},
   "outputs": [
    {
     "data": {
      "text/plain": [
       "''"
      ]
     },
     "execution_count": 16,
     "metadata": {},
     "output_type": "execute_result"
    }
   ],
   "source": [
    "a"
   ]
  },
  {
   "cell_type": "code",
   "execution_count": 17,
   "metadata": {},
   "outputs": [
    {
     "data": {
      "text/plain": [
       "'Python'"
      ]
     },
     "execution_count": 17,
     "metadata": {},
     "output_type": "execute_result"
    }
   ],
   "source": [
    "b"
   ]
  },
  {
   "cell_type": "code",
   "execution_count": 18,
   "metadata": {},
   "outputs": [
    {
     "data": {
      "text/plain": [
       "'Python'"
      ]
     },
     "execution_count": 18,
     "metadata": {},
     "output_type": "execute_result"
    }
   ],
   "source": [
    "a or b"
   ]
  },
  {
   "cell_type": "code",
   "execution_count": 1,
   "metadata": {},
   "outputs": [],
   "source": [
    "a = \"C\"\n",
    "b = \"Python\""
   ]
  },
  {
   "cell_type": "code",
   "execution_count": 4,
   "metadata": {},
   "outputs": [
    {
     "data": {
      "text/plain": [
       "'Python'"
      ]
     },
     "execution_count": 4,
     "metadata": {},
     "output_type": "execute_result"
    }
   ],
   "source": [
    "a and b"
   ]
  },
  {
   "cell_type": "code",
   "execution_count": 10,
   "metadata": {},
   "outputs": [],
   "source": [
    "a = 6"
   ]
  },
  {
   "cell_type": "code",
   "execution_count": 6,
   "metadata": {},
   "outputs": [
    {
     "data": {
      "text/plain": [
       "6"
      ]
     },
     "execution_count": 6,
     "metadata": {},
     "output_type": "execute_result"
    }
   ],
   "source": [
    "a+1"
   ]
  },
  {
   "cell_type": "code",
   "execution_count": 7,
   "metadata": {},
   "outputs": [
    {
     "data": {
      "text/plain": [
       "5"
      ]
     },
     "execution_count": 7,
     "metadata": {},
     "output_type": "execute_result"
    }
   ],
   "source": []
  },
  {
   "cell_type": "code",
   "execution_count": 11,
   "metadata": {},
   "outputs": [],
   "source": [
    "a+=5"
   ]
  },
  {
   "cell_type": "code",
   "execution_count": 12,
   "metadata": {},
   "outputs": [
    {
     "data": {
      "text/plain": [
       "11"
      ]
     },
     "execution_count": 12,
     "metadata": {},
     "output_type": "execute_result"
    }
   ],
   "source": [
    "a"
   ]
  },
  {
   "cell_type": "code",
   "execution_count": 13,
   "metadata": {},
   "outputs": [],
   "source": [
    "# a = a+5\n",
    "a+=5 "
   ]
  },
  {
   "cell_type": "code",
   "execution_count": 14,
   "metadata": {},
   "outputs": [
    {
     "data": {
      "text/plain": [
       "16"
      ]
     },
     "execution_count": 14,
     "metadata": {},
     "output_type": "execute_result"
    }
   ],
   "source": [
    "a"
   ]
  },
  {
   "cell_type": "code",
   "execution_count": 17,
   "metadata": {},
   "outputs": [],
   "source": [
    "a = 5\n",
    "b = 5"
   ]
  },
  {
   "cell_type": "code",
   "execution_count": 18,
   "metadata": {},
   "outputs": [
    {
     "data": {
      "text/plain": [
       "True"
      ]
     },
     "execution_count": 18,
     "metadata": {},
     "output_type": "execute_result"
    }
   ],
   "source": [
    "a == b"
   ]
  },
  {
   "cell_type": "code",
   "execution_count": 19,
   "metadata": {},
   "outputs": [
    {
     "name": "stdout",
     "output_type": "stream",
     "text": [
      "b = a:  15\n",
      "b += a:  30\n",
      "b -= a:  15\n",
      "b *= a:  225\n",
      "b /= a:  15.0\n",
      "b //= a:  1.0\n",
      "b %= a:  1.0\n",
      "b **= a:  1.0\n",
      "b <= a:  1.0\n",
      "b >= a:  1.0\n",
      "a &= 5:  5\n",
      "a |= 5:  5\n"
     ]
    }
   ],
   "source": [
    "# Assigning the values to variables\n",
    "a = 15\n",
    "b = 5\n",
    "# Simple assignment operator\n",
    "b = a\n",
    "print('b = a: ',b)\n",
    "# ADD AND operator\n",
    "b += a\n",
    "print('b += a: ', b)\n",
    "# SUBTRACT AND operatpr\n",
    "b -= a\n",
    "print('b -= a: ', b)\n",
    "# MULTIPLICATION AND operator\n",
    "b *= a\n",
    "print('b *= a: ', b)\n",
    "# DIVISION AND operator\n",
    "b /= a\n",
    "print('b /= a: ', b)\n",
    "# FLOOR AND operator\n",
    "b //= a\n",
    "print('b //= a: ', b)\n",
    "# MODULUS AND operator\n",
    "b %= a\n",
    "print('b %= a: ', b)\n",
    "# EXPONENT AND operator\n",
    "b **= a\n",
    "print('b **= a: ', b)\n",
    "# LESS THAN AND operator\n",
    "b <= a\n",
    "print('b <= a: ', b)\n",
    "# GREATOR THAN AND operator\n",
    "b >= a\n",
    "print('b >= a: ', b)\n",
    "# BINARY AND operator\n",
    "a &= 5\n",
    "print('a &= 5: ', a)\n",
    "# BINARY OR operator\n",
    "a |= 5\n",
    "print('a |= 5: ', a)"
   ]
  },
  {
   "cell_type": "code",
   "execution_count": 21,
   "metadata": {},
   "outputs": [
    {
     "name": "stdout",
     "output_type": "stream",
     "text": [
      "a is b is True\n",
      "a is not b is False\n"
     ]
    }
   ],
   "source": [
    "# Assigning values to variables\n",
    "a = 10\n",
    "b = 10\n",
    "# Identity is operator\n",
    "print('a is b is',a is b)\n",
    "# Identity is not operator\n",
    "print('a is not b is',a is not b)"
   ]
  },
  {
   "cell_type": "code",
   "execution_count": 22,
   "metadata": {},
   "outputs": [
    {
     "name": "stdout",
     "output_type": "stream",
     "text": [
      "140709630977968\n",
      "140709630977968\n",
      "140709630977968\n",
      "True\n"
     ]
    }
   ],
   "source": [
    "# Assigning the values to variables\n",
    "a = 5\n",
    "b = 5\n",
    "c = a\n",
    "# Getting the id of the variables\n",
    "print(id(a))\n",
    "print(id(b))\n",
    "print(id(c))\n",
    "# Comparing the id of a and c\n",
    "print(a is c)"
   ]
  },
  {
   "cell_type": "code",
   "execution_count": 8,
   "metadata": {},
   "outputs": [],
   "source": [
    "a = 'Python'"
   ]
  },
  {
   "cell_type": "code",
   "execution_count": 9,
   "metadata": {},
   "outputs": [
    {
     "data": {
      "text/plain": [
       "False"
      ]
     },
     "execution_count": 9,
     "metadata": {},
     "output_type": "execute_result"
    }
   ],
   "source": [
    "'Y' in a"
   ]
  },
  {
   "cell_type": "code",
   "execution_count": 10,
   "metadata": {},
   "outputs": [
    {
     "data": {
      "text/plain": [
       "False"
      ]
     },
     "execution_count": 10,
     "metadata": {},
     "output_type": "execute_result"
    }
   ],
   "source": [
    "'p' in a"
   ]
  },
  {
   "cell_type": "code",
   "execution_count": 11,
   "metadata": {},
   "outputs": [
    {
     "data": {
      "text/plain": [
       "True"
      ]
     },
     "execution_count": 11,
     "metadata": {},
     "output_type": "execute_result"
    }
   ],
   "source": [
    "'P' in a"
   ]
  },
  {
   "cell_type": "code",
   "execution_count": null,
   "metadata": {},
   "outputs": [],
   "source": []
  }
 ],
 "metadata": {
  "kernelspec": {
   "display_name": "Python 3",
   "language": "python",
   "name": "python3"
  },
  "language_info": {
   "codemirror_mode": {
    "name": "ipython",
    "version": 3
   },
   "file_extension": ".py",
   "mimetype": "text/x-python",
   "name": "python",
   "nbconvert_exporter": "python",
   "pygments_lexer": "ipython3",
   "version": "3.12.0"
  }
 },
 "nbformat": 4,
 "nbformat_minor": 2
}
