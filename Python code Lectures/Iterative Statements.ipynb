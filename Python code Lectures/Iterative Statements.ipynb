{
 "cells": [
  {
   "cell_type": "raw",
   "id": "b580df53",
   "metadata": {},
   "source": [
    "for itarator_variable in sequence_name:\n",
    "\tStatements\n",
    "\t. . .\n",
    "\tStatements\n"
   ]
  },
  {
   "cell_type": "code",
   "execution_count": 2,
   "id": "7bd3ac9d",
   "metadata": {},
   "outputs": [
    {
     "name": "stdout",
     "output_type": "stream",
     "text": [
      "F\n",
      "a\n",
      "i\n",
      "z\n",
      "a\n",
      "n\n"
     ]
    }
   ],
   "source": [
    "name = \"Faizan\"\n",
    "for word in name:\n",
    "    print(word)"
   ]
  },
  {
   "cell_type": "code",
   "execution_count": 4,
   "id": "83fb9da3",
   "metadata": {},
   "outputs": [
    {
     "name": "stdout",
     "output_type": "stream",
     "text": [
      "Name of Day in a Week :  Sunday\n",
      "Name of Day in a Week :  Monday\n",
      "Name of Day in a Week :  Tuesday\n",
      "Name of Day in a Week :  Wednesday\n",
      "Name of Day in a Week :  Thursday\n",
      "Name of Day in a Week :  Friday\n",
      "Name of Day in a Week :  Saturday\n"
     ]
    }
   ],
   "source": [
    "week = ['Sunday','Monday','Tuesday','Wednesday','Thursday','Friday','Saturday']\n",
    "\n",
    "for day in week:\n",
    "    print(\"Name of Day in a Week : \",day)"
   ]
  },
  {
   "cell_type": "code",
   "execution_count": 7,
   "id": "c3d40f3f",
   "metadata": {},
   "outputs": [
    {
     "name": "stdout",
     "output_type": "stream",
     "text": [
      "1\n",
      "2\n",
      "3\n",
      "4\n"
     ]
    }
   ],
   "source": [
    "for number in range(1,5):\n",
    "    print(number)"
   ]
  },
  {
   "cell_type": "code",
   "execution_count": 8,
   "id": "61c28c7c",
   "metadata": {},
   "outputs": [
    {
     "name": "stdout",
     "output_type": "stream",
     "text": [
      "1\n",
      "2\n",
      "3\n",
      "4\n",
      "5\n",
      "6\n"
     ]
    }
   ],
   "source": [
    "number={1,2,3,4,5,6}\n",
    "\n",
    "for n in number:\n",
    "    print(n)"
   ]
  },
  {
   "cell_type": "code",
   "execution_count": 12,
   "id": "19899abc",
   "metadata": {},
   "outputs": [
    {
     "name": "stdout",
     "output_type": "stream",
     "text": [
      "Name of Day in a Week :  1-Sunday\n",
      "Name of Day in a Week :  2-Monday\n",
      "Name of Day in a Week :  3-Tuesday\n",
      "Name of Day in a Week :  4-Wednesday\n",
      "Name of Day in a Week :  5-Thursday\n",
      "Name of Day in a Week :  6-Friday\n",
      "Name of Day in a Week :  7-Saturday\n"
     ]
    }
   ],
   "source": [
    "week = ('1-Sunday','2-Monday','3-Tuesday','4-Wednesday','5-Thursday','6-Friday','7-Saturday')\n",
    "for day in week:\n",
    "    print(\"Name of Day in a Week : \",day)"
   ]
  },
  {
   "cell_type": "code",
   "execution_count": 20,
   "id": "2c72fe6f",
   "metadata": {},
   "outputs": [
    {
     "name": "stdout",
     "output_type": "stream",
     "text": [
      "1\n",
      "Sum of Numbers is: 1\n",
      "2\n",
      "Sum of Numbers is: 3\n",
      "3\n",
      "Sum of Numbers is: 6\n",
      "4\n",
      "Sum of Numbers is: 10\n",
      "5\n",
      "Sum of Numbers is: 15\n",
      "Sum of Numbers outside the loop is: 15\n"
     ]
    }
   ],
   "source": [
    "numbers = (1,2,3,4,5)\n",
    "sum = 0\n",
    "for number in numbers:\n",
    "    print(number)\n",
    "    sum = sum + number\n",
    "    print(\"Sum of Numbers is:\", sum)\n",
    "print(\"Sum of Numbers outside the loop is:\", sum)"
   ]
  },
  {
   "cell_type": "raw",
   "id": "3f260e04",
   "metadata": {},
   "source": [
    "=========================================\n",
    "                Table of 2\n",
    "=========================================\n",
    "                2 * 1 = 2\n",
    "                2 * 2 = 4\n",
    "                2 * 3 = 6\n",
    "                .........\n",
    "                .........\n",
    "                .........\n",
    "                .........\n",
    "                .........\n",
    "                2 * 10 = 20\n",
    "============================================"
   ]
  },
  {
   "cell_type": "code",
   "execution_count": 28,
   "id": "ee4af1d3",
   "metadata": {},
   "outputs": [
    {
     "name": "stdout",
     "output_type": "stream",
     "text": [
      "Enter your Number: 67\n",
      "67 * 1 = 67\n",
      "67 * 2 = 134\n",
      "67 * 3 = 201\n",
      "67 * 4 = 268\n",
      "67 * 5 = 335\n",
      "67 * 6 = 402\n",
      "67 * 7 = 469\n",
      "67 * 8 = 536\n",
      "67 * 9 = 603\n",
      "67 * 10 = 670\n"
     ]
    }
   ],
   "source": [
    "number = int(input(\"Enter your Number: \"))\n",
    "for i in range(1,11):\n",
    "    print(number,\"*\",i,\"=\",number*i)\n",
    "    \n",
    "    "
   ]
  },
  {
   "cell_type": "code",
   "execution_count": 26,
   "id": "2934755a",
   "metadata": {},
   "outputs": [
    {
     "name": "stdout",
     "output_type": "stream",
     "text": [
      "Enter your desired Number: 35\n",
      "=========================================\n",
      "Table of  35\n",
      "=========================================\n",
      "35 * 1 = 35\n",
      "35 * 2 = 70\n",
      "35 * 3 = 105\n",
      "35 * 4 = 140\n",
      "35 * 5 = 175\n",
      "35 * 6 = 210\n",
      "35 * 7 = 245\n",
      "35 * 8 = 280\n",
      "35 * 9 = 315\n",
      "=========================================\n"
     ]
    }
   ],
   "source": [
    "number = int(input(\"Enter your desired Number: \"))\n",
    "print(\"=========================================\")\n",
    "print (\"Table of \", number)\n",
    "print(\"=========================================\")\n",
    "for n in range(1,10):\n",
    "    print(number,\"*\",n ,\"=\" ,number*n)\n",
    "print(\"=========================================\")"
   ]
  },
  {
   "cell_type": "code",
   "execution_count": 31,
   "id": "6cce27ce",
   "metadata": {},
   "outputs": [
    {
     "name": "stdout",
     "output_type": "stream",
     "text": [
      "The following lines will print each letters of Asim\n",
      "A\n",
      "s\n",
      "i\n",
      "m\n",
      "\n",
      "The following lines will print each letters of Ali\n",
      "A\n",
      "l\n",
      "i\n",
      "\n",
      "The following lines will print each letters of Asad\n",
      "A\n",
      "s\n",
      "a\n",
      "d\n",
      "\n",
      "The following lines will print each letters of Ahmer\n",
      "A\n",
      "h\n",
      "m\n",
      "e\n",
      "r\n",
      "\n"
     ]
    }
   ],
   "source": [
    "names=['Asim','Ali','Asad','Ahmer']\n",
    "for word in names:\n",
    "        #This loop is fetching word from the list\n",
    "        print (\"The following lines will print each letters of \"+word)\n",
    "        for letter in word:\n",
    "                #This loop is fetching letter for the word\n",
    "                print (letter)\n",
    "        print(\"\") #This print is used to print a blank line"
   ]
  },
  {
   "cell_type": "code",
   "execution_count": null,
   "id": "203f21ab",
   "metadata": {},
   "outputs": [],
   "source": []
  }
 ],
 "metadata": {
  "kernelspec": {
   "display_name": "Python 3",
   "language": "python",
   "name": "python3"
  },
  "language_info": {
   "codemirror_mode": {
    "name": "ipython",
    "version": 3
   },
   "file_extension": ".py",
   "mimetype": "text/x-python",
   "name": "python",
   "nbconvert_exporter": "python",
   "pygments_lexer": "ipython3",
   "version": "3.8.8"
  }
 },
 "nbformat": 4,
 "nbformat_minor": 5
}
