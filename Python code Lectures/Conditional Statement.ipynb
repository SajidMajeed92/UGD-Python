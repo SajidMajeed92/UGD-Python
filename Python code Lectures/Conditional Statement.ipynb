{
 "cells": [
  {
   "cell_type": "markdown",
   "id": "a9610fef",
   "metadata": {},
   "source": [
    "# Conditional Statements"
   ]
  },
  {
   "cell_type": "raw",
   "id": "f102c2b8",
   "metadata": {},
   "source": [
    "In Python, we use the if statement to create programs that can make decisions. The syntax of the if statement is:\n",
    "\n",
    "if test_condition:\n",
    "    statement(s)\n",
    "    \n",
    "    \n",
    "Python if...else statement    \n",
    "if test_condition:\n",
    "    statement(s)\n",
    "else:\n",
    "    statement(s)    \n",
    "    \n",
    " \n",
    "Python if...elif...else statement\n",
    "\n",
    "if test_condition1:\n",
    "    statements_1\n",
    "elif test_condition2:\n",
    "    statement_2\n",
    "...\n",
    "else:\n",
    "    statements_3\n",
    "\n"
   ]
  },
  {
   "cell_type": "code",
   "execution_count": 23,
   "id": "57db4ab1",
   "metadata": {},
   "outputs": [
    {
     "name": "stdout",
     "output_type": "stream",
     "text": [
      "Failing grade\n"
     ]
    }
   ],
   "source": [
    "grade_in_midterm = 30\n",
    " \n",
    "if grade_in_midterm >= 65:\n",
    "    print(\"Passing grade\")\n",
    "else:\n",
    "    print(\"Failing grade\")"
   ]
  },
  {
   "cell_type": "code",
   "execution_count": 13,
   "id": "68c60003",
   "metadata": {},
   "outputs": [],
   "source": [
    "grade = 60\n",
    "if grade < 60:\n",
    "    print(\"passing grade\")"
   ]
  },
  {
   "cell_type": "code",
   "execution_count": 14,
   "id": "44ade1bb",
   "metadata": {},
   "outputs": [
    {
     "name": "stdout",
     "output_type": "stream",
     "text": [
      "Failing grade\n"
     ]
    }
   ],
   "source": [
    "grade = 60\n",
    "if grade < 60:\n",
    "    print(\"passing grade\")\n",
    "else:\n",
    "    print(\"Failing grade\")"
   ]
  },
  {
   "cell_type": "code",
   "execution_count": 27,
   "id": "bfe034cd",
   "metadata": {},
   "outputs": [
    {
     "name": "stdout",
     "output_type": "stream",
     "text": [
      "Enter balance400\n",
      "Recharge your Balance.\n"
     ]
    }
   ],
   "source": [
    "balance = int(input(\"Enter balance\"))\n",
    " \n",
    "if balance >= 500:\n",
    "    print(\"you have Balance of 500 or more.\")\n",
    "else:\n",
    "    print(\"Recharge your Balance.\")"
   ]
  },
  {
   "cell_type": "code",
   "execution_count": 26,
   "id": "2026187d",
   "metadata": {},
   "outputs": [
    {
     "name": "stdout",
     "output_type": "stream",
     "text": [
      "Your balance is 0 or above.\n"
     ]
    }
   ],
   "source": [
    "balance = 500\n",
    "\n",
    "if balance < 0:\n",
    "    print(\"Balance is below 0, add funds now or you will be charged a penalty.\")\n",
    "elif balance == 0:\n",
    "    print(\"Balance is equal to 0, add funds soon.\")\n",
    "else:\n",
    "    print(\"Your balance is 0 or above.\")"
   ]
  },
  {
   "cell_type": "code",
   "execution_count": 17,
   "id": "165272e5",
   "metadata": {},
   "outputs": [
    {
     "name": "stdout",
     "output_type": "stream",
     "text": [
      "A grade\n"
     ]
    }
   ],
   "source": [
    "grade = 95 \n",
    "\n",
    "if grade >= 90:\n",
    "    print(\"A grade\") \n",
    "elif grade >=80:\n",
    "    print(\"B grade\")\n",
    "elif grade >=70:\n",
    "    print(\"C grade\")\n",
    "elif grade >= 65:\n",
    "    print(\"D grade\")\n",
    "else:\n",
    "    print(\"Failing grade\")"
   ]
  },
  {
   "cell_type": "raw",
   "id": "e3d7b952",
   "metadata": {},
   "source": [
    "Example: Check if student passed the exam\n",
    "Suppose you are a university student and to pass the examination you need to score 50 or more. Lets look at a program to check if you passed the exam."
   ]
  },
  {
   "cell_type": "code",
   "execution_count": 18,
   "id": "5b72b6ee",
   "metadata": {},
   "outputs": [
    {
     "name": "stdout",
     "output_type": "stream",
     "text": [
      "Enter a number: \n"
     ]
    },
    {
     "ename": "ValueError",
     "evalue": "invalid literal for int() with base 10: ''",
     "output_type": "error",
     "traceback": [
      "\u001b[1;31m---------------------------------------------------------------------------\u001b[0m",
      "\u001b[1;31mValueError\u001b[0m                                Traceback (most recent call last)",
      "\u001b[1;32m<ipython-input-18-799abc8b0dd1>\u001b[0m in \u001b[0;36m<module>\u001b[1;34m\u001b[0m\n\u001b[1;32m----> 1\u001b[1;33m \u001b[0mscore\u001b[0m \u001b[1;33m=\u001b[0m \u001b[0mint\u001b[0m\u001b[1;33m(\u001b[0m\u001b[0minput\u001b[0m\u001b[1;33m(\u001b[0m\u001b[1;34m\"Enter a number: \"\u001b[0m\u001b[1;33m)\u001b[0m\u001b[1;33m)\u001b[0m\u001b[1;33m\u001b[0m\u001b[1;33m\u001b[0m\u001b[0m\n\u001b[0m\u001b[0;32m      2\u001b[0m \u001b[1;33m\u001b[0m\u001b[0m\n\u001b[0;32m      3\u001b[0m \u001b[1;32mif\u001b[0m \u001b[0mscore\u001b[0m \u001b[1;33m>=\u001b[0m \u001b[1;36m50\u001b[0m\u001b[1;33m:\u001b[0m\u001b[1;33m\u001b[0m\u001b[1;33m\u001b[0m\u001b[0m\n\u001b[0;32m      4\u001b[0m     \u001b[0mprint\u001b[0m\u001b[1;33m(\u001b[0m\u001b[1;34m\"You have passed your exams.\"\u001b[0m\u001b[1;33m)\u001b[0m\u001b[1;33m\u001b[0m\u001b[1;33m\u001b[0m\u001b[0m\n\u001b[0;32m      5\u001b[0m     \u001b[0mprint\u001b[0m\u001b[1;33m(\u001b[0m\u001b[1;34m\"Congratulations!\"\u001b[0m\u001b[1;33m)\u001b[0m\u001b[1;33m\u001b[0m\u001b[1;33m\u001b[0m\u001b[0m\n",
      "\u001b[1;31mValueError\u001b[0m: invalid literal for int() with base 10: ''"
     ]
    }
   ],
   "source": [
    "score = int(input(\"Enter a number: \"))\n",
    "\n",
    "if score >= 50:\n",
    "    print(\"You have passed your exams.\")\n",
    "    print(\"Congratulations!\")"
   ]
  },
  {
   "cell_type": "code",
   "execution_count": 19,
   "id": "18fa3b6c",
   "metadata": {},
   "outputs": [
    {
     "name": "stdout",
     "output_type": "stream",
     "text": [
      "Sorry, you have failed your exam.\n"
     ]
    }
   ],
   "source": [
    "score = 35\n",
    "\n",
    "if score >= 50:\n",
    "    print(\"You have passed your exam.\")\n",
    "    print(\"Congratulations!\")\n",
    "\n",
    "if score < 50:\n",
    "    print(\"Sorry, you have failed your exam.\")"
   ]
  },
  {
   "cell_type": "raw",
   "id": "8dd8f5a7",
   "metadata": {},
   "source": [
    "Python if...else statement\n",
    "\n",
    "if test_condition:\n",
    "    statement(s)\n",
    "else:\n",
    "    statement(s)"
   ]
  },
  {
   "cell_type": "code",
   "execution_count": 20,
   "id": "749e1525",
   "metadata": {},
   "outputs": [
    {
     "name": "stdout",
     "output_type": "stream",
     "text": [
      "Score is invalid.\n"
     ]
    }
   ],
   "source": [
    "score = 105\n",
    "\n",
    "if score > 100 or score < 0:\n",
    "    print(\"Score is invalid.\")\n",
    "elif score >= 50:\n",
    "    print(\"You have passed your exam.\")\n",
    "    print(\"Congratulations!\")\n",
    "else:\n",
    "    print(\"Sorry, you have failed your exam.\")"
   ]
  },
  {
   "cell_type": "raw",
   "id": "9bbe3bf9",
   "metadata": {},
   "source": [
    "Can you create a program to check whether a number is positive or negative or 0?\n",
    "\n",
    "To create this program, create a variable named number and assign a float value to it based on the user input. Then using a if statement, check if the number variable is positive or negative or 0.\n",
    "\n",
    "If number is positive, print \"The number is positive\"\n",
    "If number is 0, print \"The number is 0\"\n",
    "If number is negative, print \"The number is negative\""
   ]
  },
  {
   "cell_type": "code",
   "execution_count": 34,
   "id": "8bceecc3",
   "metadata": {},
   "outputs": [
    {
     "name": "stdout",
     "output_type": "stream",
     "text": [
      "Enter your Number: 0\n",
      "The number is 0\n"
     ]
    }
   ],
   "source": [
    "number = float(input(\"Enter your Number: \"))\n",
    "\n",
    "if number<0:\n",
    "    print(\"The number is Negitive\")\n",
    "elif number == 0:\n",
    "    print(\"The number is 0\")\n",
    "else:\n",
    "    print(\"The number is positive\")\n"
   ]
  }
 ],
 "metadata": {
  "kernelspec": {
   "display_name": "Python 3",
   "language": "python",
   "name": "python3"
  },
  "language_info": {
   "codemirror_mode": {
    "name": "ipython",
    "version": 3
   },
   "file_extension": ".py",
   "mimetype": "text/x-python",
   "name": "python",
   "nbconvert_exporter": "python",
   "pygments_lexer": "ipython3",
   "version": "3.8.8"
  }
 },
 "nbformat": 4,
 "nbformat_minor": 5
}
